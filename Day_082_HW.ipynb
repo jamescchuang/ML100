{
 "cells": [
  {
   "cell_type": "markdown",
   "metadata": {},
   "source": [
    "## Work\n",
    "1. 請比較使用不同層數以及不同 Dropout rate 對訓練的效果\n",
    "2. 將 optimizer 改成使用 Adam 並加上適當的 dropout rate 檢視結果"
   ]
  },
  {
   "cell_type": "code",
   "execution_count": 1,
   "metadata": {},
   "outputs": [
    {
     "name": "stderr",
     "output_type": "stream",
     "text": [
      "Using TensorFlow backend.\n"
     ]
    }
   ],
   "source": [
    "import os\n",
    "import keras\n",
    "import itertools\n",
    "# Disable GPU\n",
    "# os.environ[\"CUDA_VISIBLE_DEVICES\"] = \"\""
   ]
  },
  {
   "cell_type": "code",
   "execution_count": 2,
   "metadata": {},
   "outputs": [],
   "source": [
    "train, test = keras.datasets.cifar10.load_data()"
   ]
  },
  {
   "cell_type": "code",
   "execution_count": 3,
   "metadata": {},
   "outputs": [],
   "source": [
    "## 資料前處理\n",
    "def preproc_x(x, flatten=True):\n",
    "    x = x / 255.\n",
    "    if flatten:\n",
    "        x = x.reshape((len(x), -1))\n",
    "    return x\n",
    "\n",
    "def preproc_y(y, num_classes=10):\n",
    "    if y.shape[-1] == 1:\n",
    "        y = keras.utils.to_categorical(y, num_classes)\n",
    "    return y    "
   ]
  },
  {
   "cell_type": "code",
   "execution_count": 4,
   "metadata": {},
   "outputs": [],
   "source": [
    "x_train, y_train = train\n",
    "x_test, y_test = test\n",
    "\n",
    "# Preproc the inputs\n",
    "x_train = preproc_x(x_train)\n",
    "x_test = preproc_x(x_test)\n",
    "\n",
    "# Preprc the outputs\n",
    "y_train = preproc_y(y_train)\n",
    "y_test = preproc_y(y_test)"
   ]
  },
  {
   "cell_type": "code",
   "execution_count": 5,
   "metadata": {},
   "outputs": [],
   "source": [
    "from keras.layers import Dropout\n",
    "\n",
    "def build_mlp(input_shape, output_units=10, num_neurons=[512, 256, 128, 64], drp_ratio=0.2):\n",
    "    input_layer = keras.layers.Input(input_shape)\n",
    "    \n",
    "    for i, n_units in enumerate(num_neurons):\n",
    "        if i == 0:\n",
    "            x = keras.layers.Dense(units=n_units, \n",
    "                                   activation=\"relu\", \n",
    "                                   name=\"hidden_layer\"+str(i+1))(input_layer)\n",
    "            x = Dropout(drp_ratio)(x)\n",
    "        else:\n",
    "            x = keras.layers.Dense(units=n_units, \n",
    "                                   activation=\"relu\", \n",
    "                                   name=\"hidden_layer\"+str(i+1))(x)\n",
    "            x = Dropout(drp_ratio)(x)\n",
    "    \n",
    "    out = keras.layers.Dense(units=output_units, activation=\"softmax\", name=\"output\")(x)\n",
    "    \n",
    "    model = keras.models.Model(inputs=[input_layer], outputs=[out])\n",
    "    return model"
   ]
  },
  {
   "cell_type": "code",
   "execution_count": 6,
   "metadata": {},
   "outputs": [],
   "source": [
    "## 超參數設定\n",
    "LEARNING_RATE = 1e-3\n",
    "EPOCHS = 50\n",
    "BATCH_SIZE = 256\n",
    "MOMENTUM = 0.95\n",
    "Dropout_EXP = 0.2"
   ]
  },
  {
   "cell_type": "code",
   "execution_count": 7,
   "metadata": {
    "scrolled": true
   },
   "outputs": [
    {
     "name": "stdout",
     "output_type": "stream",
     "text": [
      "WARNING:tensorflow:From d:\\tf-env\\lib\\site-packages\\tensorflow\\python\\framework\\op_def_library.py:263: colocate_with (from tensorflow.python.framework.ops) is deprecated and will be removed in a future version.\n",
      "Instructions for updating:\n",
      "Colocations handled automatically by placer.\n",
      "WARNING:tensorflow:From d:\\tf-env\\lib\\site-packages\\keras\\backend\\tensorflow_backend.py:3445: calling dropout (from tensorflow.python.ops.nn_ops) with keep_prob is deprecated and will be removed in a future version.\n",
      "Instructions for updating:\n",
      "Please use `rate` instead of `keep_prob`. Rate should be set to `rate = 1 - keep_prob`.\n",
      "_________________________________________________________________\n",
      "Layer (type)                 Output Shape              Param #   \n",
      "=================================================================\n",
      "input_1 (InputLayer)         (None, 3072)              0         \n",
      "_________________________________________________________________\n",
      "hidden_layer1 (Dense)        (None, 512)               1573376   \n",
      "_________________________________________________________________\n",
      "dropout_1 (Dropout)          (None, 512)               0         \n",
      "_________________________________________________________________\n",
      "hidden_layer2 (Dense)        (None, 256)               131328    \n",
      "_________________________________________________________________\n",
      "dropout_2 (Dropout)          (None, 256)               0         \n",
      "_________________________________________________________________\n",
      "hidden_layer3 (Dense)        (None, 128)               32896     \n",
      "_________________________________________________________________\n",
      "dropout_3 (Dropout)          (None, 128)               0         \n",
      "_________________________________________________________________\n",
      "hidden_layer4 (Dense)        (None, 64)                8256      \n",
      "_________________________________________________________________\n",
      "dropout_4 (Dropout)          (None, 64)                0         \n",
      "_________________________________________________________________\n",
      "output (Dense)               (None, 10)                650       \n",
      "=================================================================\n",
      "Total params: 1,746,506\n",
      "Trainable params: 1,746,506\n",
      "Non-trainable params: 0\n",
      "_________________________________________________________________\n",
      "WARNING:tensorflow:From d:\\tf-env\\lib\\site-packages\\tensorflow\\python\\ops\\math_ops.py:3066: to_int32 (from tensorflow.python.ops.math_ops) is deprecated and will be removed in a future version.\n",
      "Instructions for updating:\n",
      "Use tf.cast instead.\n",
      "Train on 50000 samples, validate on 10000 samples\n",
      "Epoch 1/50\n",
      "50000/50000 [==============================] - 4s 85us/step - loss: 2.1070 - acc: 0.2085 - val_loss: 1.8659 - val_acc: 0.3269\n",
      "Epoch 2/50\n",
      "50000/50000 [==============================] - 2s 49us/step - loss: 1.9090 - acc: 0.3031 - val_loss: 1.7911 - val_acc: 0.3534\n",
      "Epoch 3/50\n",
      "50000/50000 [==============================] - 2s 49us/step - loss: 1.8460 - acc: 0.3313 - val_loss: 1.7355 - val_acc: 0.3878\n",
      "Epoch 4/50\n",
      "50000/50000 [==============================] - 2s 49us/step - loss: 1.8093 - acc: 0.3450 - val_loss: 1.6974 - val_acc: 0.3961\n",
      "Epoch 5/50\n",
      "50000/50000 [==============================] - 2s 49us/step - loss: 1.7751 - acc: 0.3588 - val_loss: 1.6811 - val_acc: 0.3935\n",
      "Epoch 6/50\n",
      "50000/50000 [==============================] - 2s 49us/step - loss: 1.7425 - acc: 0.3709 - val_loss: 1.6541 - val_acc: 0.4080\n",
      "Epoch 7/50\n",
      "50000/50000 [==============================] - 2s 49us/step - loss: 1.7242 - acc: 0.3805 - val_loss: 1.6478 - val_acc: 0.4080\n",
      "Epoch 8/50\n",
      "50000/50000 [==============================] - 2s 49us/step - loss: 1.6994 - acc: 0.3884 - val_loss: 1.6314 - val_acc: 0.4225\n",
      "Epoch 9/50\n",
      "50000/50000 [==============================] - 3s 52us/step - loss: 1.6875 - acc: 0.3920 - val_loss: 1.5841 - val_acc: 0.4448\n",
      "Epoch 10/50\n",
      "50000/50000 [==============================] - 3s 54us/step - loss: 1.6728 - acc: 0.4017 - val_loss: 1.5970 - val_acc: 0.4346\n",
      "Epoch 11/50\n",
      "50000/50000 [==============================] - 2s 50us/step - loss: 1.6638 - acc: 0.4062 - val_loss: 1.5770 - val_acc: 0.4379\n",
      "Epoch 12/50\n",
      "50000/50000 [==============================] - 3s 51us/step - loss: 1.6469 - acc: 0.4101 - val_loss: 1.5847 - val_acc: 0.4391\n",
      "Epoch 13/50\n",
      "50000/50000 [==============================] - 2s 50us/step - loss: 1.6391 - acc: 0.4150 - val_loss: 1.5683 - val_acc: 0.4469\n",
      "Epoch 14/50\n",
      "50000/50000 [==============================] - 3s 52us/step - loss: 1.6238 - acc: 0.4190 - val_loss: 1.5646 - val_acc: 0.4504\n",
      "Epoch 15/50\n",
      "50000/50000 [==============================] - 3s 50us/step - loss: 1.6237 - acc: 0.4200 - val_loss: 1.5182 - val_acc: 0.4571\n",
      "Epoch 16/50\n",
      "50000/50000 [==============================] - 3s 53us/step - loss: 1.6196 - acc: 0.4193 - val_loss: 1.5416 - val_acc: 0.4567\n",
      "Epoch 17/50\n",
      "50000/50000 [==============================] - 3s 52us/step - loss: 1.5984 - acc: 0.4294 - val_loss: 1.5180 - val_acc: 0.4617\n",
      "Epoch 18/50\n",
      "50000/50000 [==============================] - 3s 51us/step - loss: 1.5990 - acc: 0.4270 - val_loss: 1.5050 - val_acc: 0.4664\n",
      "Epoch 19/50\n",
      "50000/50000 [==============================] - 3s 50us/step - loss: 1.5885 - acc: 0.4307 - val_loss: 1.5172 - val_acc: 0.4580\n",
      "Epoch 20/50\n",
      "50000/50000 [==============================] - 2s 49us/step - loss: 1.5827 - acc: 0.4309 - val_loss: 1.5033 - val_acc: 0.4686\n",
      "Epoch 21/50\n",
      "50000/50000 [==============================] - 2s 50us/step - loss: 1.5818 - acc: 0.4322 - val_loss: 1.5073 - val_acc: 0.4682\n",
      "Epoch 22/50\n",
      "50000/50000 [==============================] - 2s 50us/step - loss: 1.5844 - acc: 0.4315 - val_loss: 1.5002 - val_acc: 0.4660\n",
      "Epoch 23/50\n",
      "50000/50000 [==============================] - 2s 49us/step - loss: 1.5751 - acc: 0.4361 - val_loss: 1.5361 - val_acc: 0.4551\n",
      "Epoch 24/50\n",
      "50000/50000 [==============================] - 2s 49us/step - loss: 1.5631 - acc: 0.4407 - val_loss: 1.4950 - val_acc: 0.4731\n",
      "Epoch 25/50\n",
      "50000/50000 [==============================] - 2s 49us/step - loss: 1.5589 - acc: 0.4427 - val_loss: 1.4870 - val_acc: 0.4721\n",
      "Epoch 26/50\n",
      "50000/50000 [==============================] - 2s 50us/step - loss: 1.5574 - acc: 0.4457 - val_loss: 1.4922 - val_acc: 0.4674\n",
      "Epoch 27/50\n",
      "50000/50000 [==============================] - 2s 49us/step - loss: 1.5434 - acc: 0.4502 - val_loss: 1.4780 - val_acc: 0.4764\n",
      "Epoch 28/50\n",
      "50000/50000 [==============================] - 2s 49us/step - loss: 1.5390 - acc: 0.4517 - val_loss: 1.4771 - val_acc: 0.4780\n",
      "Epoch 29/50\n",
      "50000/50000 [==============================] - 2s 50us/step - loss: 1.5409 - acc: 0.4475 - val_loss: 1.4944 - val_acc: 0.4674\n",
      "Epoch 30/50\n",
      "50000/50000 [==============================] - 2s 50us/step - loss: 1.5346 - acc: 0.4508 - val_loss: 1.4713 - val_acc: 0.4786\n",
      "Epoch 31/50\n",
      "50000/50000 [==============================] - 2s 50us/step - loss: 1.5331 - acc: 0.4501 - val_loss: 1.4534 - val_acc: 0.4887\n",
      "Epoch 32/50\n",
      "50000/50000 [==============================] - 3s 50us/step - loss: 1.5279 - acc: 0.4538 - val_loss: 1.4845 - val_acc: 0.4709\n",
      "Epoch 33/50\n",
      "50000/50000 [==============================] - 2s 49us/step - loss: 1.5312 - acc: 0.4521 - val_loss: 1.4931 - val_acc: 0.4708\n",
      "Epoch 34/50\n",
      "50000/50000 [==============================] - 2s 49us/step - loss: 1.5234 - acc: 0.4565 - val_loss: 1.4387 - val_acc: 0.4889\n",
      "Epoch 35/50\n",
      "50000/50000 [==============================] - 2s 49us/step - loss: 1.5173 - acc: 0.4574 - val_loss: 1.4467 - val_acc: 0.4860\n",
      "Epoch 36/50\n",
      "50000/50000 [==============================] - 2s 49us/step - loss: 1.5150 - acc: 0.4590 - val_loss: 1.4510 - val_acc: 0.4861\n",
      "Epoch 37/50\n",
      "50000/50000 [==============================] - 2s 50us/step - loss: 1.5082 - acc: 0.4609 - val_loss: 1.4684 - val_acc: 0.4823\n",
      "Epoch 38/50\n",
      "50000/50000 [==============================] - 2s 49us/step - loss: 1.5073 - acc: 0.4629 - val_loss: 1.4643 - val_acc: 0.4864\n",
      "Epoch 39/50\n",
      "50000/50000 [==============================] - 2s 50us/step - loss: 1.5042 - acc: 0.4615 - val_loss: 1.4521 - val_acc: 0.4875\n",
      "Epoch 40/50\n",
      "50000/50000 [==============================] - 3s 59us/step - loss: 1.4942 - acc: 0.4650 - val_loss: 1.4399 - val_acc: 0.4904\n",
      "Epoch 41/50\n",
      "50000/50000 [==============================] - 3s 59us/step - loss: 1.4936 - acc: 0.4658 - val_loss: 1.4471 - val_acc: 0.4857\n",
      "Epoch 42/50\n",
      "50000/50000 [==============================] - 2s 50us/step - loss: 1.4946 - acc: 0.4673 - val_loss: 1.4391 - val_acc: 0.4891\n",
      "Epoch 43/50\n",
      "50000/50000 [==============================] - 2s 49us/step - loss: 1.4928 - acc: 0.4659 - val_loss: 1.4432 - val_acc: 0.4881\n",
      "Epoch 44/50\n",
      "50000/50000 [==============================] - 2s 50us/step - loss: 1.4894 - acc: 0.4694 - val_loss: 1.4588 - val_acc: 0.4859\n",
      "Epoch 45/50\n",
      "50000/50000 [==============================] - 2s 49us/step - loss: 1.4854 - acc: 0.4681 - val_loss: 1.4560 - val_acc: 0.4835\n",
      "Epoch 46/50\n",
      "50000/50000 [==============================] - 3s 53us/step - loss: 1.4850 - acc: 0.4692 - val_loss: 1.4308 - val_acc: 0.4897\n",
      "Epoch 47/50\n",
      "50000/50000 [==============================] - 2s 50us/step - loss: 1.4764 - acc: 0.4745 - val_loss: 1.4539 - val_acc: 0.4854\n",
      "Epoch 48/50\n",
      "50000/50000 [==============================] - 3s 56us/step - loss: 1.4675 - acc: 0.4754 - val_loss: 1.4371 - val_acc: 0.4868\n",
      "Epoch 49/50\n",
      "50000/50000 [==============================] - 3s 50us/step - loss: 1.4816 - acc: 0.4680 - val_loss: 1.4487 - val_acc: 0.4822\n",
      "Epoch 50/50\n",
      "50000/50000 [==============================] - 3s 51us/step - loss: 1.4731 - acc: 0.4732 - val_loss: 1.4586 - val_acc: 0.4863\n"
     ]
    }
   ],
   "source": [
    "results = {}\n",
    "\"\"\"\n",
    "Write your training loop and record results\n",
    "\"\"\"\n",
    "model = build_mlp(input_shape=x_train.shape[1:], drp_ratio=Dropout_EXP)\n",
    "model.summary()\n",
    "# optimizer = keras.optimizers.SGD(lr=LEARNING_RATE, nesterov=True, momentum=MOMENTUM)\n",
    "optimizer = keras.optimizers.Adam(lr=LEARNING_RATE)\n",
    "model.compile(loss=\"categorical_crossentropy\", metrics=[\"accuracy\"], optimizer=optimizer)\n",
    "\n",
    "model.fit(x_train, y_train, \n",
    "          epochs=EPOCHS, \n",
    "          batch_size=BATCH_SIZE, \n",
    "          validation_data=(x_test, y_test), \n",
    "          shuffle=True)\n",
    "\n",
    "# Collect results\n",
    "train_loss = model.history.history[\"loss\"]\n",
    "valid_loss = model.history.history[\"val_loss\"]\n",
    "train_acc = model.history.history[\"acc\"]\n",
    "valid_acc = model.history.history[\"val_acc\"]"
   ]
  },
  {
   "cell_type": "code",
   "execution_count": 8,
   "metadata": {},
   "outputs": [
    {
     "data": {
      "image/png": "[encoded data removed]",
      "text/plain": [
       "<Figure size 432x288 with 1 Axes>"
      ]
     },
     "metadata": {
      "needs_background": "light"
     },
     "output_type": "display_data"
    },
    {
     "data": {
      "image/png": "[encoded data removed]",
      "text/plain": [
       "<Figure size 432x288 with 1 Axes>"
      ]
     },
     "metadata": {
      "needs_background": "light"
     },
     "output_type": "display_data"
    }
   ],
   "source": [
    "import matplotlib.pyplot as plt\n",
    "%matplotlib inline\n",
    "\"\"\"\n",
    "Plot results\n",
    "\"\"\"\n",
    "plt.plot(range(len(train_loss)), train_loss, label=\"train loss\")\n",
    "plt.plot(range(len(valid_loss)), valid_loss, label=\"valid loss\")\n",
    "plt.legend()\n",
    "plt.title(\"Loss\")\n",
    "plt.show()\n",
    "\n",
    "plt.plot(range(len(train_acc)), train_acc, label=\"train accuracy\")\n",
    "plt.plot(range(len(valid_acc)), valid_acc, label=\"valid accuracy\")\n",
    "plt.legend()\n",
    "plt.title(\"Accuracy\")\n",
    "plt.show()"
   ]
  }
 ],
 "metadata": {
  "kernelspec": {
   "display_name": "tf-env",
   "language": "python",
   "name": "tf-env"
  },
  "language_info": {
   "codemirror_mode": {
    "name": "ipython",
    "version": 3
   },
   "file_extension": ".py",
   "mimetype": "text/x-python",
   "name": "python",
   "nbconvert_exporter": "python",
   "pygments_lexer": "ipython3",
   "version": "3.6.8"
  }
 },
 "nbformat": 4,
 "nbformat_minor": 2
}
