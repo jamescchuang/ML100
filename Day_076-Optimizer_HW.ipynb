{
 "cells": [
  {
   "cell_type": "markdown",
   "metadata": {},
   "source": [
    "\n",
    "# 作業: \n",
    "    \n",
    "    (1)以, Adam, 為例, 調整 batch_size, epoch , 觀察accurancy, loss 的變化\n",
    "    \n",
    "    (2)以同一模型, 分別驗證 SGD, Adam, Rmsprop 的 accurancy"
   ]
  },
  {
   "cell_type": "code",
   "execution_count": 1,
   "metadata": {},
   "outputs": [
    {
     "name": "stderr",
     "output_type": "stream",
     "text": [
      "Using TensorFlow backend.\n"
     ]
    }
   ],
   "source": [
    "import keras\n",
    "#from keras.datasets import cifar10\n",
    "from keras.datasets import mnist \n",
    "from keras.preprocessing.image import ImageDataGenerator\n",
    "from keras.models import Sequential, load_model\n",
    "from keras.layers import Dense, Dropout, Activation, Flatten\n",
    "from keras.layers import Conv2D, MaxPooling2D\n",
    "from keras import optimizers\n",
    "from keras.callbacks import EarlyStopping, ModelCheckpoint\n",
    "from keras import optimizers\n",
    "import numpy \n"
   ]
  },
  {
   "cell_type": "code",
   "execution_count": 2,
   "metadata": {},
   "outputs": [
    {
     "name": "stdout",
     "output_type": "stream",
     "text": [
      "WARNING:tensorflow:From d:\\tf-env\\lib\\site-packages\\tensorflow\\python\\framework\\op_def_library.py:263: colocate_with (from tensorflow.python.framework.ops) is deprecated and will be removed in a future version.\n",
      "Instructions for updating:\n",
      "Colocations handled automatically by placer.\n"
     ]
    }
   ],
   "source": [
    "#    第一步：選擇模型, 順序模型是多個網絡層的線性堆疊\n",
    " \n",
    "model = Sequential()\n",
    "\n",
    "#   第二步：構建網絡層\n",
    " \n",
    "model.add(Dense( 500,input_shape=(784,))) # 輸入層，28*28=784   \n",
    "model.add(Activation('relu')) # 激活函數是relu   \n",
    "\n",
    "model.add(Dense( 500)) # 隱藏層節點500個   \n",
    "model.add(Activation('relu'))  \n",
    "\n",
    "model.add(Dense( 500)) # 隱藏層節點500個   \n",
    "model.add(Activation('relu'))  \n",
    "\n",
    "model.add(Dense( 500)) # 隱藏層節點500個   \n",
    "model.add(Activation('relu'))  \n",
    "\n",
    "model.add(Dense( 10)) # 輸出結果是10個類別，所以維度是10   \n",
    "model.add(Activation('softmax')) # 最後一層用softmax作為激活函數"
   ]
  },
  {
   "cell_type": "code",
   "execution_count": 3,
   "metadata": {},
   "outputs": [
    {
     "name": "stdout",
     "output_type": "stream",
     "text": [
      "Total Parameters：1149010\n"
     ]
    }
   ],
   "source": [
    "# 模型建立完成後，統計參數總量\n",
    "print(\"Total Parameters：%d\" % model.count_params())"
   ]
  },
  {
   "cell_type": "code",
   "execution_count": 4,
   "metadata": {},
   "outputs": [
    {
     "name": "stdout",
     "output_type": "stream",
     "text": [
      "_________________________________________________________________\n",
      "Layer (type)                 Output Shape              Param #   \n",
      "=================================================================\n",
      "dense_1 (Dense)              (None, 500)               392500    \n",
      "_________________________________________________________________\n",
      "activation_1 (Activation)    (None, 500)               0         \n",
      "_________________________________________________________________\n",
      "dense_2 (Dense)              (None, 500)               250500    \n",
      "_________________________________________________________________\n",
      "activation_2 (Activation)    (None, 500)               0         \n",
      "_________________________________________________________________\n",
      "dense_3 (Dense)              (None, 500)               250500    \n",
      "_________________________________________________________________\n",
      "activation_3 (Activation)    (None, 500)               0         \n",
      "_________________________________________________________________\n",
      "dense_4 (Dense)              (None, 500)               250500    \n",
      "_________________________________________________________________\n",
      "activation_4 (Activation)    (None, 500)               0         \n",
      "_________________________________________________________________\n",
      "dense_5 (Dense)              (None, 10)                5010      \n",
      "_________________________________________________________________\n",
      "activation_5 (Activation)    (None, 10)                0         \n",
      "=================================================================\n",
      "Total params: 1,149,010\n",
      "Trainable params: 1,149,010\n",
      "Non-trainable params: 0\n",
      "_________________________________________________________________\n"
     ]
    }
   ],
   "source": [
    "# 輸出模型摘要資訊\n",
    "model.summary()"
   ]
  },
  {
   "cell_type": "markdown",
   "metadata": {},
   "source": [
    "## Using SGD optimizer"
   ]
  },
  {
   "cell_type": "code",
   "execution_count": 5,
   "metadata": {},
   "outputs": [],
   "source": [
    " '''\n",
    " SGD(隨機梯度下降) - Arguments\n",
    "lr: float >= 0. Learning rate.\n",
    "momentum: float >= 0. Parameter that accelerates SGD in the relevant direction and dampens oscillations.\n",
    "decay: float >= 0. Learning rate decay over each update.\n",
    "nesterov: boolean. Whether to apply Nesterov momentum.\n",
    "'''\n",
    "opt = optimizers.SGD(lr=0.01, decay=1e-6, momentum=0.9, nesterov=True)"
   ]
  },
  {
   "cell_type": "code",
   "execution_count": 6,
   "metadata": {},
   "outputs": [],
   "source": [
    "# 第三步：編譯, \n",
    "model.compile(optimizer = opt, loss = 'binary_crossentropy', metrics = ['accuracy'])"
   ]
  },
  {
   "cell_type": "code",
   "execution_count": 7,
   "metadata": {},
   "outputs": [],
   "source": [
    "#  第四步：資料分割\n",
    "# 使用Keras自帶的mnist工具讀取數據（第一次需要聯網）\n",
    "(X_train, y_train), (X_test, y_test) = mnist.load_data() \n",
    "\n",
    "# 由於mist的輸入數據維度是(num, 28 , 28)，這裡需要把後面的維度直接拼起來變成784維   \n",
    "X_train = X_train.reshape(X_train.shape[0], X_train.shape[1] * X_train.shape[2 ]) / 255.0\n",
    "X_test = X_test.reshape(X_test.shape[0], X_test.shape[1] * X_test.shape[2 ]) / 255.0\n",
    "Y_train = (numpy.arange(10) == y_train[:, None]).astype(int)\n",
    "Y_test = (numpy.arange(10) == y_test[:, None]).astype(int)\n"
   ]
  },
  {
   "cell_type": "code",
   "execution_count": 8,
   "metadata": {},
   "outputs": [],
   "source": [
    "\n",
    "'''\n",
    "   宣告並設定\n",
    "   batch_size：對總的樣本數進行分組，每組包含的樣本數量\n",
    "   epochs ：訓練次數\n",
    "   \n",
    "''' \n",
    "batch_size=128\n",
    "epochs=20"
   ]
  },
  {
   "cell_type": "code",
   "execution_count": 9,
   "metadata": {},
   "outputs": [
    {
     "name": "stdout",
     "output_type": "stream",
     "text": [
      "WARNING:tensorflow:From d:\\tf-env\\lib\\site-packages\\tensorflow\\python\\ops\\math_ops.py:3066: to_int32 (from tensorflow.python.ops.math_ops) is deprecated and will be removed in a future version.\n",
      "Instructions for updating:\n",
      "Use tf.cast instead.\n",
      "Train on 42000 samples, validate on 18000 samples\n",
      "Epoch 1/20\n",
      "42000/42000 [==============================] - 2s 43us/step - loss: 0.2373 - acc: 0.9161 - val_loss: 0.1015 - val_acc: 0.9663\n",
      "Epoch 2/20\n",
      "42000/42000 [==============================] - 1s 29us/step - loss: 0.0736 - acc: 0.9759 - val_loss: 0.0619 - val_acc: 0.9789\n",
      "Epoch 3/20\n",
      "42000/42000 [==============================] - 1s 29us/step - loss: 0.0531 - acc: 0.9826 - val_loss: 0.0493 - val_acc: 0.9834\n",
      "Epoch 4/20\n",
      "42000/42000 [==============================] - 1s 33us/step - loss: 0.0454 - acc: 0.9852 - val_loss: 0.0436 - val_acc: 0.9853\n",
      "Epoch 5/20\n",
      "42000/42000 [==============================] - 1s 35us/step - loss: 0.0403 - acc: 0.9866 - val_loss: 0.0432 - val_acc: 0.9852\n",
      "Epoch 6/20\n",
      "42000/42000 [==============================] - 1s 29us/step - loss: 0.0367 - acc: 0.9880 - val_loss: 0.0362 - val_acc: 0.9880\n",
      "Epoch 7/20\n",
      "42000/42000 [==============================] - 1s 30us/step - loss: 0.0334 - acc: 0.9891 - val_loss: 0.0337 - val_acc: 0.9886\n",
      "Epoch 8/20\n",
      "42000/42000 [==============================] - 1s 32us/step - loss: 0.0305 - acc: 0.9901 - val_loss: 0.0320 - val_acc: 0.9893\n",
      "Epoch 9/20\n",
      "42000/42000 [==============================] - 1s 36us/step - loss: 0.0280 - acc: 0.9910 - val_loss: 0.0308 - val_acc: 0.9898\n",
      "Epoch 10/20\n",
      "42000/42000 [==============================] - 1s 30us/step - loss: 0.0258 - acc: 0.9917 - val_loss: 0.0298 - val_acc: 0.9900\n",
      "Epoch 11/20\n",
      "42000/42000 [==============================] - 1s 29us/step - loss: 0.0240 - acc: 0.9923 - val_loss: 0.0270 - val_acc: 0.9912\n",
      "Epoch 12/20\n",
      "42000/42000 [==============================] - 1s 29us/step - loss: 0.0222 - acc: 0.9928 - val_loss: 0.0260 - val_acc: 0.9917\n",
      "Epoch 13/20\n",
      "42000/42000 [==============================] - 1s 29us/step - loss: 0.0207 - acc: 0.9934 - val_loss: 0.0256 - val_acc: 0.9917\n",
      "Epoch 14/20\n",
      "42000/42000 [==============================] - 1s 30us/step - loss: 0.0193 - acc: 0.9940 - val_loss: 0.0261 - val_acc: 0.9913\n",
      "Epoch 15/20\n",
      "42000/42000 [==============================] - 1s 29us/step - loss: 0.0182 - acc: 0.9942 - val_loss: 0.0229 - val_acc: 0.9925\n",
      "Epoch 16/20\n",
      "42000/42000 [==============================] - 1s 29us/step - loss: 0.0168 - acc: 0.9947 - val_loss: 0.0227 - val_acc: 0.9926\n",
      "Epoch 17/20\n",
      "42000/42000 [==============================] - 1s 30us/step - loss: 0.0157 - acc: 0.9951 - val_loss: 0.0232 - val_acc: 0.9923\n",
      "Epoch 18/20\n",
      "42000/42000 [==============================] - 1s 33us/step - loss: 0.0149 - acc: 0.9954 - val_loss: 0.0209 - val_acc: 0.9930\n",
      "Epoch 19/20\n",
      "42000/42000 [==============================] - 1s 32us/step - loss: 0.0138 - acc: 0.9958 - val_loss: 0.0210 - val_acc: 0.9931\n",
      "Epoch 20/20\n",
      "42000/42000 [==============================] - 1s 34us/step - loss: 0.0130 - acc: 0.9961 - val_loss: 0.0217 - val_acc: 0.9928\n"
     ]
    }
   ],
   "source": [
    "# 第五步：訓練, 修正 model 參數\n",
    "#Blas GEMM launch failed , 避免動態分配GPU / CPU, 出現問題\n",
    "import tensorflow as tf\n",
    "gpu_options = tf.GPUOptions(per_process_gpu_memory_fraction=0.333)\n",
    "sess = tf.Session(config=tf.ConfigProto(gpu_options=gpu_options))\n",
    "\n",
    "\n",
    "history = model.fit(X_train,Y_train,batch_size = batch_size, epochs=epochs, shuffle=True,verbose=1,validation_split=0.3 )"
   ]
  },
  {
   "cell_type": "code",
   "execution_count": 10,
   "metadata": {},
   "outputs": [
    {
     "name": "stdout",
     "output_type": "stream",
     "text": [
      " test set \n",
      "\n",
      " The test loss is %f  [0.020440074802609162, 0.9932600092887879]\n",
      "\n",
      " The accuracy of the model is 0.965000 \n"
     ]
    }
   ],
   "source": [
    "#    第六步：輸出\n",
    " \n",
    "print ( \" test set \" )\n",
    "scores = model.evaluate(X_test,Y_test,batch_size=200,verbose= 0)\n",
    "print ( \"\" )\n",
    "#print ( \" The test loss is %f \" % scores)\n",
    "print ( \" The test loss is %f \", scores)\n",
    "result = model.predict(X_test,batch_size=200,verbose= 0)\n",
    "\n",
    "result_max = numpy.argmax(result, axis = 1 )\n",
    "test_max = numpy.argmax(Y_test, axis = 1 )\n",
    "\n",
    "result_bool = numpy.equal(result_max, test_max)\n",
    "true_num = numpy.sum(result_bool)\n",
    "print ( \"\" )\n",
    "print ( \" The accuracy of the model is %f \" % (true_num/len(result_bool)))"
   ]
  },
  {
   "cell_type": "code",
   "execution_count": 11,
   "metadata": {},
   "outputs": [
    {
     "data": {
      "image/png": "[encoded data removed]",
      "text/plain": [
       "<Figure size 432x288 with 1 Axes>"
      ]
     },
     "metadata": {
      "needs_background": "light"
     },
     "output_type": "display_data"
    },
    {
     "data": {
      "image/png": "[encoded data removed]",
      "text/plain": [
       "<Figure size 432x288 with 1 Axes>"
      ]
     },
     "metadata": {
      "needs_background": "light"
     },
     "output_type": "display_data"
    }
   ],
   "source": [
    "import matplotlib.pyplot as plt\n",
    "\n",
    "%matplotlib inline\n",
    "\n",
    "# history = model.fit(x, y, validation_split=0.25, epochs=50, batch_size=16, verbose=1)\n",
    "\n",
    "# Plot training & validation accuracy values\n",
    "plt.plot(history.history['acc'])\n",
    "plt.plot(history.history['val_acc'])\n",
    "plt.title('Model accuracy')\n",
    "plt.ylabel('Accuracy')\n",
    "plt.xlabel('Epoch')\n",
    "plt.legend(['Train', 'Validation'], loc='upper left')\n",
    "plt.show()\n",
    "\n",
    "# Plot training & validation loss values\n",
    "plt.plot(history.history['loss'])\n",
    "plt.plot(history.history['val_loss'])\n",
    "plt.title('Model loss')\n",
    "plt.ylabel('Loss')\n",
    "plt.xlabel('Epoch')\n",
    "plt.legend(['Train', 'Validation'], loc='upper left')\n",
    "plt.show()"
   ]
  },
  {
   "cell_type": "markdown",
   "metadata": {},
   "source": [
    "## with RMSprop optimizer"
   ]
  },
  {
   "cell_type": "code",
   "execution_count": 12,
   "metadata": {},
   "outputs": [
    {
     "name": "stdout",
     "output_type": "stream",
     "text": [
      "Train on 42000 samples, validate on 18000 samples\n",
      "Epoch 1/20\n",
      "42000/42000 [==============================] - 2s 40us/step - loss: 2.8846 - acc: 0.8200 - val_loss: 2.8956 - val_acc: 0.8194\n",
      "Epoch 2/20\n",
      "42000/42000 [==============================] - 1s 33us/step - loss: 2.8932 - acc: 0.8195 - val_loss: 2.8956 - val_acc: 0.8194\n",
      "Epoch 3/20\n",
      "42000/42000 [==============================] - 1s 32us/step - loss: 2.8932 - acc: 0.8195 - val_loss: 2.8956 - val_acc: 0.8194\n",
      "Epoch 4/20\n",
      "42000/42000 [==============================] - 2s 37us/step - loss: 2.8932 - acc: 0.8195 - val_loss: 2.8956 - val_acc: 0.8194\n",
      "Epoch 5/20\n",
      "42000/42000 [==============================] - 1s 35us/step - loss: 2.8932 - acc: 0.8195 - val_loss: 2.8956 - val_acc: 0.8194\n",
      "Epoch 6/20\n",
      "42000/42000 [==============================] - 1s 32us/step - loss: 2.8932 - acc: 0.8195 - val_loss: 2.8956 - val_acc: 0.8194\n",
      "Epoch 7/20\n",
      "42000/42000 [==============================] - 2s 36us/step - loss: 2.8932 - acc: 0.8195 - val_loss: 2.8956 - val_acc: 0.8194\n",
      "Epoch 8/20\n",
      "42000/42000 [==============================] - 1s 33us/step - loss: 2.8932 - acc: 0.8195 - val_loss: 2.8956 - val_acc: 0.8194\n",
      "Epoch 9/20\n",
      "42000/42000 [==============================] - 1s 36us/step - loss: 2.8932 - acc: 0.8195 - val_loss: 2.8956 - val_acc: 0.8194\n",
      "Epoch 10/20\n",
      "42000/42000 [==============================] - 2s 38us/step - loss: 2.8932 - acc: 0.8195 - val_loss: 2.8956 - val_acc: 0.8194\n",
      "Epoch 11/20\n",
      "42000/42000 [==============================] - 1s 34us/step - loss: 2.8932 - acc: 0.8195 - val_loss: 2.8956 - val_acc: 0.8194\n",
      "Epoch 12/20\n",
      "42000/42000 [==============================] - 1s 33us/step - loss: 2.8932 - acc: 0.8195 - val_loss: 2.8956 - val_acc: 0.8194\n",
      "Epoch 13/20\n",
      "42000/42000 [==============================] - 1s 33us/step - loss: 2.8932 - acc: 0.8195 - val_loss: 2.8956 - val_acc: 0.8194\n",
      "Epoch 14/20\n",
      "42000/42000 [==============================] - 1s 33us/step - loss: 2.8932 - acc: 0.8195 - val_loss: 2.8956 - val_acc: 0.8194\n",
      "Epoch 15/20\n",
      "42000/42000 [==============================] - 1s 33us/step - loss: 2.8932 - acc: 0.8195 - val_loss: 2.8956 - val_acc: 0.8194\n",
      "Epoch 16/20\n",
      "42000/42000 [==============================] - 1s 34us/step - loss: 2.8932 - acc: 0.8195 - val_loss: 2.8956 - val_acc: 0.8194\n",
      "Epoch 17/20\n",
      "42000/42000 [==============================] - 1s 35us/step - loss: 2.8932 - acc: 0.8195 - val_loss: 2.8956 - val_acc: 0.8194\n",
      "Epoch 18/20\n",
      "42000/42000 [==============================] - 1s 33us/step - loss: 2.8932 - acc: 0.8195 - val_loss: 2.8956 - val_acc: 0.8194\n",
      "Epoch 19/20\n",
      "42000/42000 [==============================] - 1s 33us/step - loss: 2.8932 - acc: 0.8195 - val_loss: 2.8956 - val_acc: 0.8194\n",
      "Epoch 20/20\n",
      "42000/42000 [==============================] - 1s 33us/step - loss: 2.8932 - acc: 0.8195 - val_loss: 2.8956 - val_acc: 0.8194\n"
     ]
    },
    {
     "data": {
      "image/png": "[encoded data removed]",
      "text/plain": [
       "<Figure size 432x288 with 1 Axes>"
      ]
     },
     "metadata": {
      "needs_background": "light"
     },
     "output_type": "display_data"
    },
    {
     "data": {
      "image/png": "[encoded data removed]",
      "text/plain": [
       "<Figure size 432x288 with 1 Axes>"
      ]
     },
     "metadata": {
      "needs_background": "light"
     },
     "output_type": "display_data"
    }
   ],
   "source": [
    "'''\n",
    "RMSprop- Arguments\n",
    "lr: float >= 0. Learning rate.\n",
    "rho: float >= 0.\n",
    "epsilon: float >= 0. Fuzz factor. If None, defaults to K.epsilon().\n",
    "decay: float >= 0. Learning rate decay over each update.\n",
    "'''\n",
    "opt = optimizers.RMSprop(lr=0.01)\n",
    "model.compile(optimizer = opt, loss = 'binary_crossentropy', metrics = ['accuracy'])\n",
    "history = model.fit(X_train,Y_train,batch_size = batch_size, epochs=epochs, shuffle=True,verbose=1,validation_split=0.3 )\n",
    "\n",
    "# Plot training & validation accuracy values\n",
    "plt.plot(history.history['acc'])\n",
    "plt.plot(history.history['val_acc'])\n",
    "plt.title('Model accuracy')\n",
    "plt.ylabel('Accuracy')\n",
    "plt.xlabel('Epoch')\n",
    "plt.legend(['Train', 'Validation'], loc='upper left')\n",
    "plt.show()\n",
    "\n",
    "# Plot training & validation loss values\n",
    "plt.plot(history.history['loss'])\n",
    "plt.plot(history.history['val_loss'])\n",
    "plt.title('Model loss')\n",
    "plt.ylabel('Loss')\n",
    "plt.xlabel('Epoch')\n",
    "plt.legend(['Train', 'Validation'], loc='upper left')\n",
    "plt.show()"
   ]
  },
  {
   "cell_type": "code",
   "execution_count": null,
   "metadata": {},
   "outputs": [],
   "source": []
  }
 ],
 "metadata": {
  "kernelspec": {
   "display_name": "tf-env",
   "language": "python",
   "name": "tf-env"
  },
  "language_info": {
   "codemirror_mode": {
    "name": "ipython",
    "version": 3
   },
   "file_extension": ".py",
   "mimetype": "text/x-python",
   "name": "python",
   "nbconvert_exporter": "python",
   "pygments_lexer": "ipython3",
   "version": "3.6.8"
  }
 },
 "nbformat": 4,
 "nbformat_minor": 2
}
