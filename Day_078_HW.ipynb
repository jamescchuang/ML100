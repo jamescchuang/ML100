{
 "cells": [
  {
   "cell_type": "markdown",
   "metadata": {},
   "source": [
    "## Work\n",
    "1. 請嘗試將 preproc_x 替換成以每筆資料的 min/max 進行標準化至 -1 ~ 1 間，再進行訓練\n",
    "2. 請嘗試將 mlp 疊更深 (e.g 5~10 層)，進行訓練後觀察 learning curve 的走勢\n",
    "3. (optional) 請改用 GPU 進行訓練 (如果你有 GPU 的話)，比較使用 CPU 與 GPU 的訓練速度"
   ]
  },
  {
   "cell_type": "code",
   "execution_count": 1,
   "metadata": {},
   "outputs": [
    {
     "name": "stderr",
     "output_type": "stream",
     "text": [
      "Using TensorFlow backend.\n"
     ]
    },
    {
     "name": "stdout",
     "output_type": "stream",
     "text": [
      "Tue Mar 26 10:43:15 2019       \n",
      "+-----------------------------------------------------------------------------+\n",
      "| NVIDIA-SMI 417.35       Driver Version: 417.35       CUDA Version: 10.0     |\n",
      "|-------------------------------+----------------------+----------------------+\n",
      "| GPU  Name            TCC/WDDM | Bus-Id        Disp.A | Volatile Uncorr. ECC |\n",
      "| Fan  Temp  Perf  Pwr:Usage/Cap|         Memory-Usage | GPU-Util  Compute M. |\n",
      "|===============================+======================+======================|\n",
      "|   0  GeForce GTX 107... WDDM  | 00000000:01:00.0 Off |                  N/A |\n",
      "| N/A   52C    P8     3W /  N/A |    169MiB /  8192MiB |      0%      Default |\n",
      "+-------------------------------+----------------------+----------------------+\n",
      "                                                                               \n",
      "+-----------------------------------------------------------------------------+\n",
      "| Processes:                                                       GPU Memory |\n",
      "|  GPU       PID   Type   Process name                             Usage      |\n",
      "|=============================================================================|\n",
      "|    0      1916    C+G   Insufficient Permissions                   N/A      |\n",
      "|    0     15260    C+G   ...6)\\Google\\Chrome\\Application\\chrome.exe N/A      |\n",
      "+-----------------------------------------------------------------------------+\n"
     ]
    }
   ],
   "source": [
    "import os\n",
    "import keras\n",
    "\n",
    "## 確認硬體資源\n",
    "path = \"C:\\\\Program Files\\\\NVIDIA Corporation\\\\NVSMI\"\n",
    "os.chdir(path)\n",
    "!nvidia-smi\n",
    "\n",
    "# Try to enable GPU (optional)\n",
    "os.environ[\"CUDA_VISIBLE_DEVICES\"] = \"0\""
   ]
  },
  {
   "cell_type": "code",
   "execution_count": 2,
   "metadata": {},
   "outputs": [],
   "source": [
    "train, test = keras.datasets.cifar10.load_data()"
   ]
  },
  {
   "cell_type": "code",
   "execution_count": 3,
   "metadata": {},
   "outputs": [],
   "source": [
    "from sklearn.preprocessing import MinMaxScaler\n",
    "\n",
    "mm = MinMaxScaler()\n",
    "\n",
    "## 資料前處理\n",
    "\"\"\"\n",
    "Your code here\n",
    "\"\"\"\n",
    "def preproc_x(x, flatten=True):\n",
    "    max = 1\n",
    "    min = -1\n",
    "    \n",
    "    x_std = (x - x.min(axis=0)) / (x.max(axis=0) - x.min(axis=0))\n",
    "    x = x_std * (max - min) + min\n",
    "\n",
    "    if flatten:\n",
    "        x = x.reshape((len(x), -1))\n",
    "\n",
    "    return x\n",
    "\n",
    "def preproc_y(y, num_classes=10):\n",
    "    if y.shape[-1] == 1:\n",
    "        y = keras.utils.to_categorical(y, num_classes)\n",
    "    return y"
   ]
  },
  {
   "cell_type": "code",
   "execution_count": 4,
   "metadata": {},
   "outputs": [
    {
     "name": "stdout",
     "output_type": "stream",
     "text": [
      "(50000, 32, 32, 3)\n"
     ]
    }
   ],
   "source": [
    "x_train, y_train = train\n",
    "x_test, y_test = test\n",
    "\n",
    "print(x_train.shape)\n",
    "\n",
    "# Preproc the inputs\n",
    "x_train = preproc_x(x_train)\n",
    "x_test = preproc_x(x_test)\n",
    "\n",
    "# Preprc the outputs\n",
    "y_train = preproc_y(y_train)\n",
    "y_test = preproc_y(y_test)"
   ]
  },
  {
   "cell_type": "code",
   "execution_count": 5,
   "metadata": {},
   "outputs": [
    {
     "name": "stdout",
     "output_type": "stream",
     "text": [
      "WARNING:tensorflow:From d:\\tf-env\\lib\\site-packages\\tensorflow\\python\\framework\\op_def_library.py:263: colocate_with (from tensorflow.python.framework.ops) is deprecated and will be removed in a future version.\n",
      "Instructions for updating:\n",
      "Colocations handled automatically by placer.\n",
      "_________________________________________________________________\n",
      "Layer (type)                 Output Shape              Param #   \n",
      "=================================================================\n",
      "input_1 (InputLayer)         (None, 3072)              0         \n",
      "_________________________________________________________________\n",
      "hidden_layer1 (Dense)        (None, 512)               1573376   \n",
      "_________________________________________________________________\n",
      "hidden_layer2 (Dense)        (None, 512)               262656    \n",
      "_________________________________________________________________\n",
      "hidden_layer3 (Dense)        (None, 256)               131328    \n",
      "_________________________________________________________________\n",
      "hidden_layer4 (Dense)        (None, 256)               65792     \n",
      "_________________________________________________________________\n",
      "hidden_layer5 (Dense)        (None, 128)               32896     \n",
      "_________________________________________________________________\n",
      "output (Dense)               (None, 10)                1290      \n",
      "=================================================================\n",
      "Total params: 2,067,338\n",
      "Trainable params: 2,067,338\n",
      "Non-trainable params: 0\n",
      "_________________________________________________________________\n"
     ]
    }
   ],
   "source": [
    "\"\"\"\n",
    "Your code here\n",
    "\"\"\"\n",
    "def build_mlp(input_shape, output_units=10, num_neurons=[512, 512, 256, 256, 128]):\n",
    "    input_layer = keras.layers.Input(input_shape)\n",
    "    \n",
    "    for i, n_units in enumerate(num_neurons):\n",
    "        if i == 0:\n",
    "            x = keras.layers.Dense(units=n_units, activation=\"relu\", name=\"hidden_layer\"+str(i+1))(input_layer)\n",
    "        else:\n",
    "            x = keras.layers.Dense(units=n_units, activation=\"relu\", name=\"hidden_layer\"+str(i+1))(x)\n",
    "    \n",
    "    out = keras.layers.Dense(units=output_units, activation=\"softmax\", name=\"output\")(x)\n",
    "    \n",
    "    model = keras.models.Model(inputs=[input_layer], outputs=[out])\n",
    "    return model\n",
    "\n",
    "model = build_mlp(input_shape=x_train.shape[1:])\n",
    "model.summary()"
   ]
  },
  {
   "cell_type": "code",
   "execution_count": 6,
   "metadata": {},
   "outputs": [],
   "source": [
    "## 超參數設定\n",
    "LEARNING_RATE = 0.001\n",
    "EPOCHS = 100\n",
    "BATCH_SIZE = 256"
   ]
  },
  {
   "cell_type": "code",
   "execution_count": 7,
   "metadata": {},
   "outputs": [],
   "source": [
    "optimizer = keras.optimizers.Adam(lr=LEARNING_RATE)\n",
    "model.compile(loss=\"categorical_crossentropy\", metrics=[\"accuracy\"], optimizer=optimizer)"
   ]
  },
  {
   "cell_type": "code",
   "execution_count": 8,
   "metadata": {},
   "outputs": [
    {
     "name": "stdout",
     "output_type": "stream",
     "text": [
      "WARNING:tensorflow:From d:\\tf-env\\lib\\site-packages\\tensorflow\\python\\ops\\math_ops.py:3066: to_int32 (from tensorflow.python.ops.math_ops) is deprecated and will be removed in a future version.\n",
      "Instructions for updating:\n",
      "Use tf.cast instead.\n",
      "Train on 50000 samples, validate on 10000 samples\n",
      "Epoch 1/100\n",
      "50000/50000 [==============================] - 4s 88us/step - loss: 1.6873 - acc: 0.3961 - val_loss: 1.5251 - val_acc: 0.4499\n",
      "Epoch 2/100\n",
      "50000/50000 [==============================] - 3s 53us/step - loss: 1.4548 - acc: 0.4847 - val_loss: 1.4199 - val_acc: 0.4907\n",
      "Epoch 3/100\n",
      "50000/50000 [==============================] - 3s 51us/step - loss: 1.3291 - acc: 0.5300 - val_loss: 1.4196 - val_acc: 0.4986\n",
      "Epoch 4/100\n",
      "50000/50000 [==============================] - 3s 50us/step - loss: 1.2306 - acc: 0.5635 - val_loss: 1.3486 - val_acc: 0.5236\n",
      "Epoch 5/100\n",
      "50000/50000 [==============================] - 3s 50us/step - loss: 1.1373 - acc: 0.5955 - val_loss: 1.3409 - val_acc: 0.5266\n",
      "Epoch 6/100\n",
      "50000/50000 [==============================] - 3s 50us/step - loss: 1.0444 - acc: 0.6279 - val_loss: 1.3430 - val_acc: 0.5366\n",
      "Epoch 7/100\n",
      "50000/50000 [==============================] - 3s 50us/step - loss: 0.9649 - acc: 0.6556 - val_loss: 1.3725 - val_acc: 0.5454\n",
      "Epoch 8/100\n",
      "50000/50000 [==============================] - 3s 51us/step - loss: 0.8891 - acc: 0.6821 - val_loss: 1.4211 - val_acc: 0.5334\n",
      "Epoch 9/100\n",
      "50000/50000 [==============================] - 3s 50us/step - loss: 0.8020 - acc: 0.7117 - val_loss: 1.4683 - val_acc: 0.5333\n",
      "Epoch 10/100\n",
      "50000/50000 [==============================] - 3s 50us/step - loss: 0.7205 - acc: 0.7416 - val_loss: 1.5113 - val_acc: 0.5423\n",
      "Epoch 11/100\n",
      "50000/50000 [==============================] - 3s 52us/step - loss: 0.6407 - acc: 0.7694 - val_loss: 1.6408 - val_acc: 0.5381\n",
      "Epoch 12/100\n",
      "50000/50000 [==============================] - 3s 51us/step - loss: 0.5798 - acc: 0.7928 - val_loss: 1.7096 - val_acc: 0.5382\n",
      "Epoch 13/100\n",
      "50000/50000 [==============================] - 2s 50us/step - loss: 0.5047 - acc: 0.8200 - val_loss: 1.8475 - val_acc: 0.5309\n",
      "Epoch 14/100\n",
      "50000/50000 [==============================] - 2s 49us/step - loss: 0.4573 - acc: 0.8383 - val_loss: 1.9292 - val_acc: 0.5290\n",
      "Epoch 15/100\n",
      "50000/50000 [==============================] - 2s 49us/step - loss: 0.4005 - acc: 0.8577 - val_loss: 2.0924 - val_acc: 0.5276\n",
      "Epoch 16/100\n",
      "50000/50000 [==============================] - 2s 49us/step - loss: 0.3731 - acc: 0.8680 - val_loss: 2.1709 - val_acc: 0.5344\n",
      "Epoch 17/100\n",
      "50000/50000 [==============================] - 2s 49us/step - loss: 0.3370 - acc: 0.8803 - val_loss: 2.2492 - val_acc: 0.5305\n",
      "Epoch 18/100\n",
      "50000/50000 [==============================] - 2s 49us/step - loss: 0.2987 - acc: 0.8950 - val_loss: 2.3918 - val_acc: 0.5347\n",
      "Epoch 19/100\n",
      "50000/50000 [==============================] - 2s 50us/step - loss: 0.2816 - acc: 0.9012 - val_loss: 2.4552 - val_acc: 0.5295\n",
      "Epoch 20/100\n",
      "50000/50000 [==============================] - 2s 49us/step - loss: 0.2563 - acc: 0.9105 - val_loss: 2.4944 - val_acc: 0.5341\n",
      "Epoch 21/100\n",
      "50000/50000 [==============================] - 2s 49us/step - loss: 0.2256 - acc: 0.9205 - val_loss: 2.7232 - val_acc: 0.5354\n",
      "Epoch 22/100\n",
      "50000/50000 [==============================] - 2s 50us/step - loss: 0.2157 - acc: 0.9257 - val_loss: 2.7189 - val_acc: 0.5338\n",
      "Epoch 23/100\n",
      "50000/50000 [==============================] - 2s 50us/step - loss: 0.2115 - acc: 0.9266 - val_loss: 2.6268 - val_acc: 0.5359\n",
      "Epoch 24/100\n",
      "50000/50000 [==============================] - 2s 50us/step - loss: 0.2056 - acc: 0.9295 - val_loss: 2.8007 - val_acc: 0.5388\n",
      "Epoch 25/100\n",
      "50000/50000 [==============================] - 3s 51us/step - loss: 0.1902 - acc: 0.9353 - val_loss: 2.8206 - val_acc: 0.5391\n",
      "Epoch 26/100\n",
      "50000/50000 [==============================] - 3s 54us/step - loss: 0.1747 - acc: 0.9404 - val_loss: 2.9403 - val_acc: 0.5365\n",
      "Epoch 27/100\n",
      "50000/50000 [==============================] - 3s 51us/step - loss: 0.1626 - acc: 0.9443 - val_loss: 2.9346 - val_acc: 0.5388\n",
      "Epoch 28/100\n",
      "50000/50000 [==============================] - 3s 50us/step - loss: 0.1593 - acc: 0.9461 - val_loss: 2.9691 - val_acc: 0.5366\n",
      "Epoch 29/100\n",
      "50000/50000 [==============================] - 3s 54us/step - loss: 0.1744 - acc: 0.9411 - val_loss: 2.8769 - val_acc: 0.5379\n",
      "Epoch 30/100\n",
      "50000/50000 [==============================] - 3s 50us/step - loss: 0.1533 - acc: 0.9473 - val_loss: 3.1388 - val_acc: 0.5303\n",
      "Epoch 31/100\n",
      "50000/50000 [==============================] - 3s 51us/step - loss: 0.1541 - acc: 0.9473 - val_loss: 3.1250 - val_acc: 0.5374\n",
      "Epoch 32/100\n",
      "50000/50000 [==============================] - 3s 53us/step - loss: 0.1308 - acc: 0.9566 - val_loss: 3.2516 - val_acc: 0.5353\n",
      "Epoch 33/100\n",
      "50000/50000 [==============================] - 3s 51us/step - loss: 0.1469 - acc: 0.9497 - val_loss: 3.1785 - val_acc: 0.5324\n",
      "Epoch 34/100\n",
      "50000/50000 [==============================] - 3s 53us/step - loss: 0.1263 - acc: 0.9577 - val_loss: 3.3293 - val_acc: 0.5373\n",
      "Epoch 35/100\n",
      "50000/50000 [==============================] - 3s 53us/step - loss: 0.1223 - acc: 0.9586 - val_loss: 3.3234 - val_acc: 0.5304\n",
      "Epoch 36/100\n",
      "50000/50000 [==============================] - 3s 52us/step - loss: 0.1191 - acc: 0.9606 - val_loss: 3.2050 - val_acc: 0.5393\n",
      "Epoch 37/100\n",
      "50000/50000 [==============================] - 2s 50us/step - loss: 0.1152 - acc: 0.9617 - val_loss: 3.3316 - val_acc: 0.5274\n",
      "Epoch 38/100\n",
      "50000/50000 [==============================] - 3s 50us/step - loss: 0.1285 - acc: 0.9566 - val_loss: 3.2722 - val_acc: 0.5261\n",
      "Epoch 39/100\n",
      "50000/50000 [==============================] - 3s 50us/step - loss: 0.1125 - acc: 0.9625 - val_loss: 3.3576 - val_acc: 0.5300\n",
      "Epoch 40/100\n",
      "50000/50000 [==============================] - 3s 58us/step - loss: 0.1127 - acc: 0.9637 - val_loss: 3.3783 - val_acc: 0.5334\n",
      "Epoch 41/100\n",
      "50000/50000 [==============================] - 3s 51us/step - loss: 0.1136 - acc: 0.9624 - val_loss: 3.3893 - val_acc: 0.5289\n",
      "Epoch 42/100\n",
      "50000/50000 [==============================] - 3s 56us/step - loss: 0.1082 - acc: 0.9643 - val_loss: 3.4697 - val_acc: 0.5274\n",
      "Epoch 43/100\n",
      "50000/50000 [==============================] - 3s 51us/step - loss: 0.1072 - acc: 0.9642 - val_loss: 3.2906 - val_acc: 0.5324\n",
      "Epoch 44/100\n",
      "50000/50000 [==============================] - 3s 51us/step - loss: 0.0906 - acc: 0.9704 - val_loss: 3.5217 - val_acc: 0.5350\n",
      "Epoch 45/100\n",
      "50000/50000 [==============================] - 3s 50us/step - loss: 0.0969 - acc: 0.9685 - val_loss: 3.3160 - val_acc: 0.5335\n",
      "Epoch 46/100\n",
      "50000/50000 [==============================] - 3s 50us/step - loss: 0.0977 - acc: 0.9677 - val_loss: 3.3546 - val_acc: 0.5312\n",
      "Epoch 47/100\n",
      "50000/50000 [==============================] - 3s 51us/step - loss: 0.0938 - acc: 0.9685 - val_loss: 3.5440 - val_acc: 0.5402\n",
      "Epoch 48/100\n",
      "50000/50000 [==============================] - 3s 52us/step - loss: 0.1024 - acc: 0.9672 - val_loss: 3.3667 - val_acc: 0.5315\n",
      "Epoch 49/100\n",
      "50000/50000 [==============================] - 3s 51us/step - loss: 0.0997 - acc: 0.9673 - val_loss: 3.3851 - val_acc: 0.5364\n",
      "Epoch 50/100\n",
      "50000/50000 [==============================] - 3s 51us/step - loss: 0.0982 - acc: 0.9683 - val_loss: 3.3349 - val_acc: 0.5370\n",
      "Epoch 51/100\n",
      "50000/50000 [==============================] - 3s 50us/step - loss: 0.0894 - acc: 0.9708 - val_loss: 3.4453 - val_acc: 0.5365\n",
      "Epoch 52/100\n",
      "50000/50000 [==============================] - 3s 50us/step - loss: 0.0857 - acc: 0.9717 - val_loss: 3.4394 - val_acc: 0.5307\n",
      "Epoch 53/100\n",
      "50000/50000 [==============================] - 3s 50us/step - loss: 0.0916 - acc: 0.9703 - val_loss: 3.6341 - val_acc: 0.5339\n",
      "Epoch 54/100\n",
      "50000/50000 [==============================] - 3s 50us/step - loss: 0.0889 - acc: 0.9716 - val_loss: 3.5044 - val_acc: 0.5374\n",
      "Epoch 55/100\n",
      "50000/50000 [==============================] - 3s 50us/step - loss: 0.0875 - acc: 0.9716 - val_loss: 3.6032 - val_acc: 0.5252\n",
      "Epoch 56/100\n",
      "50000/50000 [==============================] - 3s 51us/step - loss: 0.0764 - acc: 0.9744 - val_loss: 3.5496 - val_acc: 0.5334\n",
      "Epoch 57/100\n",
      "50000/50000 [==============================] - 3s 51us/step - loss: 0.0929 - acc: 0.9697 - val_loss: 3.4442 - val_acc: 0.5309\n",
      "Epoch 58/100\n",
      "50000/50000 [==============================] - 3s 50us/step - loss: 0.0865 - acc: 0.9718 - val_loss: 3.5814 - val_acc: 0.5368\n",
      "Epoch 59/100\n",
      "50000/50000 [==============================] - 3s 50us/step - loss: 0.0790 - acc: 0.9748 - val_loss: 3.5751 - val_acc: 0.5323\n",
      "Epoch 60/100\n",
      "50000/50000 [==============================] - 3s 50us/step - loss: 0.0769 - acc: 0.9750 - val_loss: 3.6148 - val_acc: 0.5327\n",
      "Epoch 61/100\n",
      "50000/50000 [==============================] - 3s 50us/step - loss: 0.0755 - acc: 0.9761 - val_loss: 3.5479 - val_acc: 0.5372\n",
      "Epoch 62/100\n",
      "50000/50000 [==============================] - 3s 50us/step - loss: 0.0715 - acc: 0.9772 - val_loss: 3.5125 - val_acc: 0.5383\n",
      "Epoch 63/100\n",
      "50000/50000 [==============================] - 3s 51us/step - loss: 0.0884 - acc: 0.9714 - val_loss: 3.4459 - val_acc: 0.5409\n",
      "Epoch 64/100\n",
      "50000/50000 [==============================] - 3s 51us/step - loss: 0.0646 - acc: 0.9788 - val_loss: 3.5594 - val_acc: 0.5370\n",
      "Epoch 65/100\n",
      "50000/50000 [==============================] - 3s 52us/step - loss: 0.0787 - acc: 0.9750 - val_loss: 3.4711 - val_acc: 0.5402\n",
      "Epoch 66/100\n",
      "50000/50000 [==============================] - 3s 52us/step - loss: 0.0715 - acc: 0.9777 - val_loss: 3.6148 - val_acc: 0.5429\n",
      "Epoch 67/100\n",
      "50000/50000 [==============================] - 3s 54us/step - loss: 0.0784 - acc: 0.9749 - val_loss: 3.5635 - val_acc: 0.5354\n",
      "Epoch 68/100\n",
      "50000/50000 [==============================] - 3s 53us/step - loss: 0.0684 - acc: 0.9781 - val_loss: 3.6033 - val_acc: 0.5377\n",
      "Epoch 69/100\n",
      "50000/50000 [==============================] - 3s 62us/step - loss: 0.0739 - acc: 0.9754 - val_loss: 3.5521 - val_acc: 0.5307\n",
      "Epoch 70/100\n",
      "50000/50000 [==============================] - 3s 53us/step - loss: 0.0738 - acc: 0.9773 - val_loss: 3.5735 - val_acc: 0.5365\n",
      "Epoch 71/100\n",
      "50000/50000 [==============================] - 3s 51us/step - loss: 0.0692 - acc: 0.9779 - val_loss: 3.6951 - val_acc: 0.5355\n",
      "Epoch 72/100\n",
      "50000/50000 [==============================] - 3s 52us/step - loss: 0.0766 - acc: 0.9750 - val_loss: 3.5517 - val_acc: 0.5384\n",
      "Epoch 73/100\n",
      "50000/50000 [==============================] - 3s 53us/step - loss: 0.0693 - acc: 0.9778 - val_loss: 3.6843 - val_acc: 0.5366\n",
      "Epoch 74/100\n",
      "50000/50000 [==============================] - 3s 51us/step - loss: 0.0601 - acc: 0.9812 - val_loss: 3.6196 - val_acc: 0.5451\n",
      "Epoch 75/100\n",
      "50000/50000 [==============================] - 3s 53us/step - loss: 0.0681 - acc: 0.9784 - val_loss: 3.5654 - val_acc: 0.5293\n",
      "Epoch 76/100\n",
      "50000/50000 [==============================] - 3s 52us/step - loss: 0.0679 - acc: 0.9789 - val_loss: 3.6781 - val_acc: 0.5366\n",
      "Epoch 77/100\n",
      "50000/50000 [==============================] - 3s 52us/step - loss: 0.0626 - acc: 0.9803 - val_loss: 3.6542 - val_acc: 0.5371\n",
      "Epoch 78/100\n",
      "50000/50000 [==============================] - 3s 53us/step - loss: 0.0626 - acc: 0.9810 - val_loss: 3.6205 - val_acc: 0.5342\n",
      "Epoch 79/100\n",
      "50000/50000 [==============================] - 3s 52us/step - loss: 0.0826 - acc: 0.9751 - val_loss: 3.4701 - val_acc: 0.5348\n",
      "Epoch 80/100\n",
      "50000/50000 [==============================] - 3s 51us/step - loss: 0.0532 - acc: 0.9832 - val_loss: 3.7177 - val_acc: 0.5428\n",
      "Epoch 81/100\n",
      "50000/50000 [==============================] - 3s 52us/step - loss: 0.0683 - acc: 0.9771 - val_loss: 3.5541 - val_acc: 0.5356\n",
      "Epoch 82/100\n",
      "50000/50000 [==============================] - 3s 52us/step - loss: 0.0737 - acc: 0.9771 - val_loss: 3.7100 - val_acc: 0.5324\n",
      "Epoch 83/100\n",
      "50000/50000 [==============================] - 3s 51us/step - loss: 0.0717 - acc: 0.9773 - val_loss: 3.4636 - val_acc: 0.5368\n",
      "Epoch 84/100\n",
      "50000/50000 [==============================] - 3s 51us/step - loss: 0.0483 - acc: 0.9852 - val_loss: 3.7048 - val_acc: 0.5254\n",
      "Epoch 85/100\n",
      "50000/50000 [==============================] - 3s 52us/step - loss: 0.0497 - acc: 0.9844 - val_loss: 3.7842 - val_acc: 0.5367\n",
      "Epoch 86/100\n",
      "50000/50000 [==============================] - 3s 61us/step - loss: 0.0586 - acc: 0.9819 - val_loss: 3.7440 - val_acc: 0.5365\n",
      "Epoch 87/100\n",
      "50000/50000 [==============================] - 3s 54us/step - loss: 0.0723 - acc: 0.9769 - val_loss: 3.6503 - val_acc: 0.5321\n",
      "Epoch 88/100\n",
      "50000/50000 [==============================] - 3s 63us/step - loss: 0.0590 - acc: 0.9817 - val_loss: 3.7624 - val_acc: 0.5308\n",
      "Epoch 89/100\n",
      "50000/50000 [==============================] - 3s 59us/step - loss: 0.0644 - acc: 0.9795 - val_loss: 3.5261 - val_acc: 0.5341\n",
      "Epoch 90/100\n",
      "50000/50000 [==============================] - 3s 60us/step - loss: 0.0474 - acc: 0.9852 - val_loss: 3.6791 - val_acc: 0.5390\n",
      "Epoch 91/100\n",
      "50000/50000 [==============================] - 3s 56us/step - loss: 0.0523 - acc: 0.9841 - val_loss: 3.6232 - val_acc: 0.5440\n",
      "Epoch 92/100\n",
      "50000/50000 [==============================] - 3s 53us/step - loss: 0.0423 - acc: 0.9865 - val_loss: 3.8257 - val_acc: 0.5334\n",
      "Epoch 93/100\n",
      "50000/50000 [==============================] - 3s 52us/step - loss: 0.0587 - acc: 0.9817 - val_loss: 3.7660 - val_acc: 0.5349\n",
      "Epoch 94/100\n",
      "50000/50000 [==============================] - 3s 53us/step - loss: 0.0526 - acc: 0.9835 - val_loss: 3.8169 - val_acc: 0.5368\n",
      "Epoch 95/100\n",
      "50000/50000 [==============================] - 3s 53us/step - loss: 0.0749 - acc: 0.9773 - val_loss: 3.6977 - val_acc: 0.5342\n",
      "Epoch 96/100\n",
      "50000/50000 [==============================] - 3s 52us/step - loss: 0.0621 - acc: 0.9803 - val_loss: 3.6778 - val_acc: 0.5442\n",
      "Epoch 97/100\n",
      "50000/50000 [==============================] - 3s 52us/step - loss: 0.0528 - acc: 0.9831 - val_loss: 3.7071 - val_acc: 0.5363\n",
      "Epoch 98/100\n",
      "50000/50000 [==============================] - 3s 52us/step - loss: 0.0458 - acc: 0.9861 - val_loss: 3.7566 - val_acc: 0.5354\n",
      "Epoch 99/100\n",
      "50000/50000 [==============================] - 3s 52us/step - loss: 0.0517 - acc: 0.9835 - val_loss: 3.7692 - val_acc: 0.5385\n",
      "Epoch 100/100\n",
      "50000/50000 [==============================] - 3s 52us/step - loss: 0.0659 - acc: 0.9798 - val_loss: 3.7196 - val_acc: 0.5332\n"
     ]
    },
    {
     "data": {
      "text/plain": [
       "<keras.callbacks.History at 0x1e8d97d7668>"
      ]
     },
     "execution_count": 8,
     "metadata": {},
     "output_type": "execute_result"
    }
   ],
   "source": [
    "model.fit(x_train, y_train, \n",
    "          epochs=EPOCHS, \n",
    "          batch_size=BATCH_SIZE, \n",
    "          validation_data=(x_test, y_test), \n",
    "          shuffle=True)"
   ]
  },
  {
   "cell_type": "code",
   "execution_count": 10,
   "metadata": {},
   "outputs": [
    {
     "data": {
      "image/png": "[encoded data removed]",
      "text/plain": [
       "<Figure size 432x288 with 1 Axes>"
      ]
     },
     "metadata": {
      "needs_background": "light"
     },
     "output_type": "display_data"
    },
    {
     "data": {
      "image/png": "[encoded data removed]",
      "text/plain": [
       "<Figure size 432x288 with 1 Axes>"
      ]
     },
     "metadata": {
      "needs_background": "light"
     },
     "output_type": "display_data"
    }
   ],
   "source": [
    "%matplotlib inline\n",
    "import matplotlib.pyplot as plt\n",
    "\n",
    "\n",
    "train_loss = model.history.history[\"loss\"]\n",
    "valid_loss = model.history.history[\"val_loss\"]\n",
    "\n",
    "train_acc = model.history.history[\"acc\"]\n",
    "valid_acc = model.history.history[\"val_acc\"]\n",
    "\n",
    "plt.plot(range(len(train_loss)), train_loss, label=\"train loss\")\n",
    "plt.plot(range(len(valid_loss)), valid_loss, label=\"valid loss\")\n",
    "plt.legend()\n",
    "plt.title(\"Loss\")\n",
    "plt.show()\n",
    "\n",
    "plt.plot(range(len(train_acc)), train_acc, label=\"train accuracy\")\n",
    "plt.plot(range(len(valid_acc)), valid_acc, label=\"valid accuracy\")\n",
    "plt.legend()\n",
    "plt.title(\"Accuracy\")\n",
    "plt.show()"
   ]
  },
  {
   "cell_type": "code",
   "execution_count": null,
   "metadata": {},
   "outputs": [],
   "source": []
  }
 ],
 "metadata": {
  "kernelspec": {
   "display_name": "tf-env",
   "language": "python",
   "name": "tf-env"
  },
  "language_info": {
   "codemirror_mode": {
    "name": "ipython",
    "version": 3
   },
   "file_extension": ".py",
   "mimetype": "text/x-python",
   "name": "python",
   "nbconvert_exporter": "python",
   "pygments_lexer": "ipython3",
   "version": "3.6.8"
  }
 },
 "nbformat": 4,
 "nbformat_minor": 2
}
